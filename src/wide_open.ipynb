{
 "cells": [
  {
   "cell_type": "markdown",
   "id": "618cb18c-79f6-4892-b229-ab7eb143107c",
   "metadata": {},
   "source": [
    "Wide Open Spaces\n",
    "================"
   ]
  },
  {
   "cell_type": "code",
   "execution_count": 1,
   "id": "18c21c21-6ae8-42a8-ad42-98b3cae161bc",
   "metadata": {},
   "outputs": [
    {
     "data": {
      "text/plain": [
       "7.75"
      ]
     },
     "execution_count": 1,
     "metadata": {},
     "output_type": "execute_result"
    }
   ],
   "source": [
    "import wide_open\n",
    "\n",
    "rad = wide_open.get_influence_radius(15); rad"
   ]
  },
  {
   "cell_type": "code",
   "execution_count": 2,
   "id": "04ebbe50-5970-4b9a-bbdf-f1433862443e",
   "metadata": {},
   "outputs": [
    {
     "data": {
      "text/plain": [
       "array([[ 2.59921636e+01, -1.47463686e-15],\n",
       "       [-1.47463686e-15,  1.39508398e+01]])"
      ]
     },
     "execution_count": 2,
     "metadata": {},
     "output_type": "execute_result"
    }
   ],
   "source": [
    "wide_open.get_covariance_matrix(180, 10, 5)"
   ]
  },
  {
   "cell_type": "code",
   "execution_count": 3,
   "id": "b7977992-3547-4366-8a53-8487976821dd",
   "metadata": {},
   "outputs": [],
   "source": [
    "inf_f = wide_open.get_player_influence_func([20, 50], 180, 10, 5)"
   ]
  },
  {
   "cell_type": "markdown",
   "id": "c423779a-a2c0-4524-98f8-3ff77e0477f0",
   "metadata": {},
   "source": [
    "If the player is moving 10 yards / second in the direction of 180 degress, then gaussian mean is expected to be 15,50. Therefore, the influence at 15,50 *should* be 1.0."
   ]
  },
  {
   "cell_type": "code",
   "execution_count": 4,
   "id": "150c467c-2db0-4d1a-989f-d8f50748842e",
   "metadata": {},
   "outputs": [
    {
     "data": {
      "text/plain": [
       "1.0"
      ]
     },
     "execution_count": 4,
     "metadata": {},
     "output_type": "execute_result"
    }
   ],
   "source": [
    "inf_f([15,50])"
   ]
  },
  {
   "cell_type": "markdown",
   "id": "e968649c-39df-46a8-913d-0c38f1863fe8",
   "metadata": {},
   "source": [
    "# TODO\n",
    "\n",
    "1. Graph influence radius, per Figure 9 in the Wide Open Space paper to confirm that the graph matches\n",
    "\n",
    "2. Check the maximum speed for player data in Big Data Bowl 2024\n",
    "\n",
    "3. Get Covariance Matrix from actual data\n",
    "\n",
    "4. Try player influence function with actual data"
   ]
  }
 ],
 "metadata": {
  "kernelspec": {
   "display_name": "Python 3 (ipykernel)",
   "language": "python",
   "name": "python3"
  },
  "language_info": {
   "codemirror_mode": {
    "name": "ipython",
    "version": 3
   },
   "file_extension": ".py",
   "mimetype": "text/x-python",
   "name": "python",
   "nbconvert_exporter": "python",
   "pygments_lexer": "ipython3",
   "version": "3.12.7"
  }
 },
 "nbformat": 4,
 "nbformat_minor": 5
}
